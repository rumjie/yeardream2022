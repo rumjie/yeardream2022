{
 "cells": [
  {
   "cell_type": "markdown",
   "metadata": {},
   "source": [
    "## 백준 1931번 회의실 배정\n",
    "\n",
    "문제 링크: https://www.acmicpc.net/problem/1931\n",
    "\n",
    "> 문제\n",
    "\n",
    "한 개의 회의실이 있는데 이를 사용하고자 하는 N개의 회의에 대하여 회의실 사용표를 만들려고 한다. 각 회의 I에 대해 시작시간과 끝나는 시간이 주어져 있고, 각 회의가 겹치지 않게 하면서 회의실을 사용할 수 있는 회의의 최대 개수를 찾아보자. 단, 회의는 한번 시작하면 중간에 중단될 수 없으며 한 회의가 끝나는 것과 동시에 다음 회의가 시작될 수 있다. 회의의 시작시간과 끝나는 시간이 같을 수도 있다. 이 경우에는 시작하자마자 끝나는 것으로 생각하면 된다.\n",
    "\n",
    "> 입력\n",
    "\n",
    "첫째 줄에 회의의 수 N(1 ≤ N ≤ 100,000)이 주어진다. 둘째 줄부터 N+1 줄까지 각 회의의 정보가 주어지는데 이것은 공백을 사이에 두고 회의의 시작시간과 끝나는 시간이 주어진다. 시작 시간과 끝나는 시간은 $2^{31}-1$보다 작거나 같은 자연수 또는 0이다.\n",
    "\n",
    "> 출력\n",
    "\n",
    "첫째 줄에 최대 사용할 수 있는 회의의 최대 개수를 출력한다."
   ]
  },
  {
   "cell_type": "code",
   "execution_count": 80,
   "metadata": {},
   "outputs": [],
   "source": [
    "#입력 장치\n",
    "import sys, io\n",
    "file = open(\"inputs.txt\", 'w')\n",
    "# 다음 데이터에 그대로 여러 데이터를 복사붙여넣기 하면 됨\n",
    "data = \"\"\"17\n",
    "3 3\n",
    "2 2\n",
    "0 3\n",
    "1 2\n",
    "3 5\n",
    "0 6\n",
    "5 7\n",
    "3 8\n",
    "5 9\n",
    "6 10\n",
    "8 10\n",
    "8 12\n",
    "2 13\n",
    "12 14\n",
    "14 46\n",
    "23 45\n",
    "46 200\n",
    "\"\"\"\n",
    "file.write(data)\n",
    "file.close()\n",
    "input_file = open(\"inputs.txt\", \"r\") \n",
    "sys.stdin = io.StringIO(input_file.read())"
   ]
  },
  {
   "cell_type": "code",
   "execution_count": 81,
   "metadata": {},
   "outputs": [],
   "source": [
    "import sys\n",
    "\n",
    "input = sys.stdin.readline\n",
    "n= int(input())\n",
    "meeting_times = []\n",
    "for i in range(n):\n",
    "    start_hr, end_hr = map(int,input().split())\n",
    "    meeting_times.append((start_hr,end_hr))\n",
    "\n",
    "def meeting_rooms(ls_times):\n",
    "    meeting_list = sorted(ls_times,key=lambda x:(x[0],x[1])) #끝시간 기준 정렬, 빨리 끝날수록 좋으니까\n",
    "    #x[1]로 먼저 정렬해준 후 x[0]로도 정렬해주기 \n",
    "\n",
    "    log_mr = []\n",
    "    for j in meeting_list:\n",
    "        if len(log_mr)==0 : #meeting room log가 비어있다면 추가\n",
    "            log_mr.append(j)\n",
    "        elif log_mr[-1][1] <= j[0]: #회의실 사용 가능\n",
    "            log_mr.append(j) \n",
    "    return log_mr, len(log_mr)\n"
   ]
  },
  {
   "cell_type": "code",
   "execution_count": 82,
   "metadata": {},
   "outputs": [
    {
     "data": {
      "text/plain": [
       "([(0, 3), (3, 3), (3, 5), (5, 7), (8, 10), (12, 14), (14, 46), (46, 200)], 8)"
      ]
     },
     "execution_count": 82,
     "metadata": {},
     "output_type": "execute_result"
    }
   ],
   "source": [
    "meeting_rooms(meeting_times)"
   ]
  },
  {
   "cell_type": "markdown",
   "metadata": {},
   "source": [
    "## 백준 11399번 ATM\n",
    "\n",
    "문제 링크 https://www.acmicpc.net/problem/11399\n",
    "\n",
    ">문제 \n",
    "\n",
    "인하은행에는 ATM이 1대밖에 없다. 지금 이 ATM앞에 N명의 사람들이 줄을 서있다. 사람은 1번부터 N번까지 번호가 매겨져 있으며, i번 사람이 돈을 인출하는데 걸리는 시간은 Pi분이다.\n",
    "\n",
    "사람들이 줄을 서는 순서에 따라서, 돈을 인출하는데 필요한 시간의 합이 달라지게 된다. 예를 들어, 총 5명이 있고, P1 = 3, P2 = 1, P3 = 4, P4 = 3, P5 = 2 인 경우를 생각해보자. [1, 2, 3, 4, 5] 순서로 줄을 선다면, 1번 사람은 3분만에 돈을 뽑을 수 있다. 2번 사람은 1번 사람이 돈을 뽑을 때 까지 기다려야 하기 때문에, 3+1 = 4분이 걸리게 된다. 3번 사람은 1번, 2번 사람이 돈을 뽑을 때까지 기다려야 하기 때문에, 총 3+1+4 = 8분이 필요하게 된다. 4번 사람은 3+1+4+3 = 11분, 5번 사람은 3+1+4+3+2 = 13분이 걸리게 된다. 이 경우에 각 사람이 돈을 인출하는데 필요한 시간의 합은 3+4+8+11+13 = 39분이 된다.\n",
    "\n",
    "줄을 [2, 5, 1, 4, 3] 순서로 줄을 서면, 2번 사람은 1분만에, 5번 사람은 1+2 = 3분, 1번 사람은 1+2+3 = 6분, 4번 사람은 1+2+3+3 = 9분, 3번 사람은 1+2+3+3+4 = 13분이 걸리게 된다. 각 사람이 돈을 인출하는데 필요한 시간의 합은 1+3+6+9+13 = 32분이다. 이 방법보다 더 필요한 시간의 합을 최소로 만들 수는 없다.\n",
    "\n",
    "줄을 서 있는 사람의 수 N과 각 사람이 돈을 인출하는데 걸리는 시간 Pi가 주어졌을 때, 각 사람이 돈을 인출하는데 필요한 시간의 합의 최솟값을 구하는 프로그램을 작성하시오.\n",
    "\n",
    ">입력\n",
    "\n",
    "첫째 줄에 사람의 수 N(1 ≤ N ≤ 1,000)이 주어진다. 둘째 줄에는 각 사람이 돈을 인출하는데 걸리는 시간 $ P_i $ 가 주어진다. (1 ≤ $ P_i $ ≤ 1,000)\n",
    "\n",
    ">출력\n",
    "\n",
    "첫째 줄에 각 사람이 돈을 인출하는데 필요한 시간의 합의 최솟값을 출력한다."
   ]
  },
  {
   "cell_type": "code",
   "execution_count": 7,
   "metadata": {},
   "outputs": [],
   "source": [
    "#입력 장치\n",
    "import sys, io\n",
    "file = open(\"inputs.txt\", 'w')\n",
    "# 다음 데이터에 그대로 여러 데이터를 복사붙여넣기 하면 됨\n",
    "data = \"\"\"5\n",
    "3 1 4 3 2\n",
    "\"\"\"\n",
    "file.write(data)\n",
    "file.close()\n",
    "input_file = open(\"inputs.txt\", \"r\") \n",
    "sys.stdin = io.StringIO(input_file.read())"
   ]
  },
  {
   "cell_type": "code",
   "execution_count": 8,
   "metadata": {},
   "outputs": [
    {
     "name": "stdout",
     "output_type": "stream",
     "text": [
      "32\n"
     ]
    }
   ],
   "source": [
    "input = sys.stdin.readline\n",
    "\n",
    "n = int(input()) #사람수\n",
    "mins = list( map(int, input().split()) )\n",
    "mins = sorted(mins)\n",
    "times = 0\n",
    "for i in range(len(mins)):\n",
    "    times += sum(mins[:i+1])\n",
    "print(times)"
   ]
  },
  {
   "cell_type": "code",
   "execution_count": null,
   "metadata": {},
   "outputs": [],
   "source": []
  }
 ],
 "metadata": {
  "kernelspec": {
   "display_name": "Python 3 (ipykernel)",
   "language": "python",
   "name": "python3"
  },
  "language_info": {
   "codemirror_mode": {
    "name": "ipython",
    "version": 3
   },
   "file_extension": ".py",
   "mimetype": "text/x-python",
   "name": "python",
   "nbconvert_exporter": "python",
   "pygments_lexer": "ipython3",
   "version": "3.9.12"
  },
  "toc": {
   "base_numbering": 1,
   "nav_menu": {},
   "number_sections": true,
   "sideBar": true,
   "skip_h1_title": false,
   "title_cell": "Table of Contents",
   "title_sidebar": "Contents",
   "toc_cell": false,
   "toc_position": {},
   "toc_section_display": true,
   "toc_window_display": false
  }
 },
 "nbformat": 4,
 "nbformat_minor": 4
}
