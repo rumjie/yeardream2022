{
 "cells": [
  {
   "cell_type": "markdown",
   "metadata": {},
   "source": [
    "## Bubble sort 구현"
   ]
  },
  {
   "cell_type": "code",
   "execution_count": 1,
   "metadata": {},
   "outputs": [],
   "source": [
    "def bubblesort(data):\n",
    "    swap=False #앞/뒤 데이터가 바뀌었는지 안바뀌었는지 확인\n",
    "    for turns in range(len(data) -1): #데이터의 길이 -1 만큼 비교 반복\n",
    "        for ind in range(len(data) - turns -1): #맨 끝부터 가장 큰 수가 정렬되므로 비교 횟수는 데이터의 길이-1-회차수\n",
    "            if data[ind] > data[ind+1]:\n",
    "                data[ind+1], data[ind] = data[ind], data[ind+1]\n",
    "                swap=True\n",
    "        if swap == False: #한번도 바뀌지 않았다면 이미 정렬된 데이터\n",
    "            break\n",
    "    return data\n",
    "            "
   ]
  },
  {
   "cell_type": "code",
   "execution_count": 4,
   "metadata": {},
   "outputs": [
    {
     "name": "stdout",
     "output_type": "stream",
     "text": [
      "[48, 84, 29, 85, 40, 69, 27, 72, 33, 13, 10, 81, 86, 93, 43, 23, 78, 16, 31, 65, 64, 0, 62, 46, 5, 89, 75, 41, 26, 98]\n",
      "[0, 5, 10, 13, 16, 23, 26, 27, 29, 31, 33, 40, 41, 43, 46, 48, 62, 64, 65, 69, 72, 75, 78, 81, 84, 85, 86, 89, 93, 98]\n"
     ]
    }
   ],
   "source": [
    "import random \n",
    "\n",
    "data = random.sample(range(100),30)\n",
    "\n",
    "print(data)\n",
    "print(bubblesort(data))"
   ]
  },
  {
   "cell_type": "markdown",
   "metadata": {},
   "source": [
    "## 백준 1517번 bubble sort\n",
    "\n",
    "문제 링크 https://www.acmicpc.net/problem/1517\n",
    "\n",
    ">문제 \n",
    "\n",
    "N개의 수로 이루어진 수열 A[1], A[2], …, A[N]이 있다. 이 수열에 대해서 버블 소트를 수행할 때, Swap이 총 몇 번 발생하는지 알아내는 프로그램을 작성하시오.\n",
    "\n",
    "버블 소트는 서로 인접해 있는 두 수를 바꿔가며 정렬하는 방법이다. 예를 들어 수열이 3 2 1 이었다고 하자. 이 경우에는 인접해 있는 3, 2가 바뀌어야 하므로 2 3 1 이 된다. 다음으로는 3, 1이 바뀌어야 하므로 2 1 3 이 된다. 다음에는 2, 1이 바뀌어야 하므로 1 2 3 이 된다. 그러면 더 이상 바꿔야 할 경우가 없으므로 정렬이 완료된다.\n",
    "\n",
    ">입력\n",
    "\n",
    "첫째 줄에 N(1 ≤ N ≤ 500,000)이 주어진다. 다음 줄에는 N개의 정수로 A[1], A[2], …, A[N]이 주어진다. 각각의 A[i]는 0 ≤ |A[i]| ≤ 1,000,000,000의 범위에 들어있다.\n",
    "\n",
    ">출력\n",
    "\n",
    "첫째 줄에 Swap 횟수를 출력한다"
   ]
  },
  {
   "cell_type": "code",
   "execution_count": 14,
   "metadata": {},
   "outputs": [],
   "source": [
    "#입력 장치\n",
    "import sys, io\n",
    "file = open(\"inputs.txt\", 'w')\n",
    "# 다음 데이터에 그대로 여러 데이터를 복사붙여넣기 하면 됨\n",
    "data = \"\"\"5\n",
    "3 2 1 9 7\n",
    "\"\"\"\n",
    "file.write(data)\n",
    "file.close()\n",
    "input_file = open(\"inputs.txt\", \"r\") \n",
    "sys.stdin = io.StringIO(input_file.read())"
   ]
  },
  {
   "cell_type": "code",
   "execution_count": 15,
   "metadata": {},
   "outputs": [
    {
     "name": "stdout",
     "output_type": "stream",
     "text": [
      "4\n"
     ]
    }
   ],
   "source": [
    "#시간 초과 \n",
    "\n",
    "import sys\n",
    "input = sys.stdin.readline\n",
    "\n",
    "n = int(input()) #데이터 길이\n",
    "data = list( map(int, input().split()) )\n",
    "\n",
    "def n_of_sort(data):\n",
    "    counts = 0\n",
    "    for turns in range(n-1):\n",
    "        for idx in range(n-turns-1):\n",
    "            if data[idx] > data[idx+1]:\n",
    "                data[idx], data[idx+1] = data[idx+1], data[idx]\n",
    "                counts +=1\n",
    "    return counts\n",
    "\n",
    "print(n_of_sort(data))"
   ]
  },
  {
   "cell_type": "code",
   "execution_count": null,
   "metadata": {},
   "outputs": [],
   "source": []
  }
 ],
 "metadata": {
  "kernelspec": {
   "display_name": "Python 3 (ipykernel)",
   "language": "python",
   "name": "python3"
  },
  "language_info": {
   "codemirror_mode": {
    "name": "ipython",
    "version": 3
   },
   "file_extension": ".py",
   "mimetype": "text/x-python",
   "name": "python",
   "nbconvert_exporter": "python",
   "pygments_lexer": "ipython3",
   "version": "3.8.13"
  },
  "toc": {
   "base_numbering": 1,
   "nav_menu": {},
   "number_sections": true,
   "sideBar": true,
   "skip_h1_title": false,
   "title_cell": "Table of Contents",
   "title_sidebar": "Contents",
   "toc_cell": false,
   "toc_position": {},
   "toc_section_display": true,
   "toc_window_display": false
  }
 },
 "nbformat": 4,
 "nbformat_minor": 4
}
