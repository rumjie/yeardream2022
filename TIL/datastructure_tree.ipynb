{
 "cells": [
  {
   "cell_type": "markdown",
   "metadata": {},
   "source": [
    "## 트리 구조 구현"
   ]
  },
  {
   "cell_type": "markdown",
   "metadata": {},
   "source": [
    "### 파이썬 객체지향 프로그래밍으로 링크드 리스트 구현하기"
   ]
  },
  {
   "cell_type": "markdown",
   "metadata": {},
   "source": [
    "#### 노드 클래스 만들기"
   ]
  },
  {
   "cell_type": "code",
   "execution_count": 1,
   "metadata": {},
   "outputs": [],
   "source": [
    "class Node:\n",
    "    def __init__(self, value):\n",
    "        self.value = value\n",
    "        self.left = None\n",
    "        self.right = None"
   ]
  },
  {
   "cell_type": "markdown",
   "metadata": {},
   "source": [
    "#### 이진 탐색 트리에 데이터 넣기\n",
    "* 이진 탐색 트리 조건에 부합하게 데이터를 넣어야 함"
   ]
  },
  {
   "cell_type": "code",
   "execution_count": 2,
   "metadata": {},
   "outputs": [],
   "source": [
    "class NodeMgmt:\n",
    "    def __init__(self,head):\n",
    "        self.head = head\n",
    "        #root node = head\n",
    "    def insert(self, value):\n",
    "        self.current_node = self.head #순회를 시작할 노드 = Head\n",
    "        while True:\n",
    "            if value< self.current_node.value: #넣어주는 데이터가 head보다 작을 때\n",
    "                if self.current_node.left != None :#왼쪽 노드에 데이터가 있다면 \n",
    "                    self.current_node = self.current_node.left \n",
    "                else:\n",
    "                    self.current_node.left = Node(value)\n",
    "                    break #while문을 멈춰줘야함 \n",
    "            else: #같거나 크다면\n",
    "                if self.current_node.right !=None:\n",
    "                    self.current_node = self.current_node.right\n",
    "                else:\n",
    "                    self.current_node = Node(value)\n",
    "                    break "
   ]
  },
  {
   "cell_type": "code",
   "execution_count": 3,
   "metadata": {},
   "outputs": [],
   "source": [
    "head = Node(50)\n",
    "BST = NodeMgmt(head)\n",
    "BST.insert(2)"
   ]
  },
  {
   "cell_type": "markdown",
   "metadata": {
    "collapsed": true
   },
   "source": [
    "#### 이진 탐색 트리 탐색 / 삭제 구현"
   ]
  },
  {
   "cell_type": "code",
   "execution_count": 4,
   "metadata": {},
   "outputs": [],
   "source": [
    "#search code\n",
    "class NodeMgmt:\n",
    "    def __init__(self,head):\n",
    "        self.head = head\n",
    "        #root node = head\n",
    "    def insert(self, value):\n",
    "        self.current_node = self.head #순회를 시작할 노드 = Head\n",
    "        while True:\n",
    "            if value< self.current_node.value: #넣어주는 데이터가 head보다 작을 때\n",
    "                if self.current_node.left != None :#왼쪽 노드에 데이터가 있다면 \n",
    "                    self.current_node = self.current_node.left \n",
    "                else:\n",
    "                    self.current_node.left = Node(value)\n",
    "                    break #while문을 멈춰줘야함 \n",
    "            else: #같거나 크다면\n",
    "                if self.current_node.right !=None:\n",
    "                    self.current_node = self.current_node.right\n",
    "                else:\n",
    "                    self.current_node.right = Node(value)\n",
    "                    break \n",
    "    def search(self, value):\n",
    "        self.current_node = self.head #Root node부터 순회 시작\n",
    "        while self.current_node: #현재 노드에 값이 없다면 break\n",
    "            if self.current_node.value == value:\n",
    "                return True\n",
    "            elif value < self.current_node.value : #찾는 값이 현재 노드보다 값이 작을 경우\n",
    "                self.current_node = self.current_node.left #왼쪽 노드로 이동\n",
    "            else:\n",
    "                self.current_node = self.current_node.right #크거나 같다면 오른쪽 노드로 이동\n",
    "        return False #탐색 후 값이 없다면 False반환 \n",
    "    def delete(self,value):\n",
    "    #삭제할 node가 없을 경우, False return\n",
    "        searched = False #해당 값이 트리에 있는지 없는지부터 찾자\n",
    "        self.current_node = self.head #head부터 순회 시작, 삭제할 값 \n",
    "        self.parent = self.head #parent를 저장\n",
    "        while self.current_node:\n",
    "            if self.current_node.value == value:\n",
    "                searched = True\n",
    "                break\n",
    "            elif value < self.current_node.value:#value가 현재 노드보다 작을 때 \n",
    "                self.parent = self.current_node\n",
    "                self.current_node = self.current_node.left #left value가 없으면 while문이 끝남\n",
    "            else: #현재 노드보다 같거나 클 때 \n",
    "                self.parent = self.current_node\n",
    "                self.current_node = self.current_node.right\n",
    "        #while 문이 끝난 경우 = value가 삭제할 값 혹은 값이 없음\n",
    "\n",
    "        if searched == False:\n",
    "            return False\n",
    "        #삭제해야 할 값이 있을 때 \n",
    "\n",
    "        #1 삭제할 노드가 Leaf \n",
    "        if self.current_node.left == None and self.current_node.right == None: #Child node가 없을 \n",
    "            if value < self.parent.value :\n",
    "                self.parent.left = None #왼쪽 자식노드 연결 끊기\n",
    "            else:\n",
    "                self.parent.right = None #오른쪽 자식노드 연결 끊기\n",
    "            del self.current_node\n",
    "\n",
    "        #2 삭제할 노드가 one child node를 가지고 있을 때 \n",
    "        elif self.current_node.left != None and self.current_node.right == None:\n",
    "            if value < self.parent.value: #왼쪽\n",
    "                self.parent.left == self.current_node.left \n",
    "            else:\n",
    "                self.parent.right == self.current_node.left\n",
    "        elif self.current_node.left == None and self.current_node.right !=None: \n",
    "            if value < self.parent.value: #오른쪽 \n",
    "                self.parent.left = self.current_node.right\n",
    "            else:\n",
    "                self.parent.right = self.current_node.right\n",
    "        #3 삭제할 노드의 child가 2개\n",
    "        elif self.current_node.left != None and self.current_node.right != None:\n",
    "            if value < self.parent.value: #삭제할 노드가 왼쪽 \n",
    "                self.change_node = self.current_node.right\n",
    "                self.change_node_parent = self.current_node.right #바꿀 노드의 부모 노드도 알아야함 \n",
    "                while self.change_node.left != None:\n",
    "                    self.change_node_parent= self.change_node #left 값이 있다면 계속 타고 내려가기 \n",
    "                    self.change_node = self.change_node.left  \n",
    "                if self.change_node.right != None:\n",
    "                    self.change_node_parent.left = self.change_node.right #왼쪽 노드 연결 끊고 바꿔줄 노드의 오른쪽 자식 노드가 있는 경우에 연결해주기 \n",
    "                else:\n",
    "                    self.change_node_parent.left = None #left 노드와의 연결 끊기\n",
    "                self.parent.left = self.change_node\n",
    "                self.change_node.right = self.current_node.right\n",
    "                self.change_node.left = self.current_node.left \n",
    "            else: #삭제할 코드가 오른쪽 \n",
    "                self.change_node = self.current_node.right\n",
    "                self.change_node_parent = self.current_node.right\n",
    "                while self.change_node.left != None:\n",
    "                    self.change_node_parent = self.change_node\n",
    "                    self.change_node = self.change_node.left\n",
    "                if self.change_node.right != None:\n",
    "                    self.change_node_parent.left = self.change_node.right\n",
    "                else:\n",
    "                    self.change_node_parent.left = None \n",
    "                self.parent.right = self.change_node \n",
    "                self.change_node.left = self.current_node.left \n",
    "                self.change_node.right = self.current_node.right"
   ]
  },
  {
   "cell_type": "code",
   "execution_count": 5,
   "metadata": {},
   "outputs": [],
   "source": [
    "head = Node(50)\n",
    "BST = NodeMgmt(head)\n",
    "BST.insert(2)\n",
    "BST.insert(10)\n",
    "BST.insert(12)\n",
    "BST.insert(14)\n",
    "BST.insert(13)\n",
    "BST.insert(20)\n",
    "BST.insert(56)\n",
    "BST.insert(57)\n",
    "BST.insert(58)"
   ]
  },
  {
   "cell_type": "code",
   "execution_count": 6,
   "metadata": {},
   "outputs": [
    {
     "data": {
      "text/plain": [
       "True"
      ]
     },
     "execution_count": 6,
     "metadata": {},
     "output_type": "execute_result"
    }
   ],
   "source": [
    "BST.search(13) #있는 데이터 찾기 "
   ]
  },
  {
   "cell_type": "code",
   "execution_count": 7,
   "metadata": {},
   "outputs": [
    {
     "data": {
      "text/plain": [
       "False"
      ]
     },
     "execution_count": 7,
     "metadata": {},
     "output_type": "execute_result"
    }
   ],
   "source": [
    "BST.search(-1) #없는 데이터 찾기 "
   ]
  },
  {
   "cell_type": "markdown",
   "metadata": {},
   "source": [
    "#### 파이썬 전체 코드 테스트\n",
    "- random 라이브러리 활용\n",
    "  - random.randint(첫번째 숫자, 마지막 숫자): 첫번째 숫자부터 마지막 숫자 사이에 있는 숫자를 랜덤하게 선택해서 리턴\n",
    "    - 예: random.randint(0, 99): 0에서 99까지 숫자중 특정 숫자를 랜덤하게 선택해서 리턴해줌"
   ]
  },
  {
   "cell_type": "code",
   "execution_count": 8,
   "metadata": {},
   "outputs": [
    {
     "name": "stdout",
     "output_type": "stream",
     "text": [
      "{1, 3, 10, 17, 26, 42, 46, 47, 50, 52, 56, 59, 64, 66, 72, 73, 78, 83, 97, 98, 103, 105, 113, 117, 123, 124, 131, 134, 137, 141, 142, 144, 148, 159, 160, 162, 163, 170, 171, 174, 180, 197, 200, 207, 212, 219, 222, 232, 236, 255, 256, 257, 261, 266, 278, 282, 288, 290, 293, 302, 303, 308, 314, 317, 324, 328, 333, 337, 342, 344, 346, 349, 351, 356, 365, 367, 374, 376, 378, 389, 390, 396, 398, 402, 409, 415, 419, 424, 428, 431, 443, 445, 450, 453, 456, 464, 472, 479, 488, 499}\n"
     ]
    }
   ],
   "source": [
    "# 0 ~ 499 숫자 중에서 임의로 100개를 추출해서, 이진 탐색 트리에 입력, 검색, 삭제\n",
    "import random\n",
    "\n",
    "# 0 ~ 499 중, 100 개의 숫자 랜덤 선택\n",
    "bst_nums = set()\n",
    "while len(bst_nums) != 100:\n",
    "    bst_nums.add(random.randint(0, 500))\n",
    "print (bst_nums)\n",
    "\n",
    "# 선택된 100개의 숫자를 이진 탐색 트리에 입력, 임의로 루트노드는 250을 넣기로 함\n",
    "head = Node(250)\n",
    "binary_tree = NodeMgmt(head)\n",
    "for num in bst_nums:\n",
    "    binary_tree.insert(num)\n",
    "    \n",
    "# 입력한 100개의 숫자 검색 (검색 기능 확인)\n",
    "for num in bst_nums:\n",
    "    if binary_tree.search(num) == False:\n",
    "        print ('search failed', num)\n",
    "#     else:\n",
    "#         print('print', num)\n",
    "\n",
    "# 입력한 100개의 숫자 중 10개의 숫자를 랜덤 선택\n",
    "delete_nums = set()\n",
    "bst_nums = list(bst_nums)\n",
    "while len(delete_nums) != 10:\n",
    "    delete_nums.add(bst_nums[random.randint(0, 99)])\n",
    "\n",
    "# 선택한 10개의 숫자를 삭제 (삭제 기능 확인)\n",
    "for del_num in delete_nums:\n",
    "    if binary_tree.delete(del_num) == False:\n",
    "        print('delete failed', del_num)"
   ]
  },
  {
   "cell_type": "code",
   "execution_count": 10,
   "metadata": {},
   "outputs": [],
   "source": [
    "#없는 숫자 지워보기\n",
    "binary_tree.delete(10)"
   ]
  },
  {
   "cell_type": "code",
   "execution_count": null,
   "metadata": {},
   "outputs": [],
   "source": []
  }
 ],
 "metadata": {
  "kernelspec": {
   "display_name": "Python 3 (ipykernel)",
   "language": "python",
   "name": "python3"
  },
  "language_info": {
   "codemirror_mode": {
    "name": "ipython",
    "version": 3
   },
   "file_extension": ".py",
   "mimetype": "text/x-python",
   "name": "python",
   "nbconvert_exporter": "python",
   "pygments_lexer": "ipython3",
   "version": "3.8.13"
  },
  "nbTranslate": {
   "displayLangs": [
    "*"
   ],
   "hotkey": "alt-t",
   "langInMainMenu": true,
   "sourceLang": "en",
   "targetLang": "fr",
   "useGoogleTranslate": true
  },
  "toc": {
   "base_numbering": 1,
   "nav_menu": {},
   "number_sections": true,
   "sideBar": true,
   "skip_h1_title": false,
   "title_cell": "Table of Contents",
   "title_sidebar": "Contents",
   "toc_cell": false,
   "toc_position": {},
   "toc_section_display": true,
   "toc_window_display": false
  }
 },
 "nbformat": 4,
 "nbformat_minor": 1
}
