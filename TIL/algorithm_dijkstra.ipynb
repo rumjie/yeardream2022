{
 "cells": [
  {
   "cell_type": "markdown",
   "id": "37e890aa",
   "metadata": {},
   "source": [
    "## 다익스트라 알고리즘 구현"
   ]
  },
  {
   "cell_type": "code",
   "execution_count": 2,
   "id": "8c0b81f7",
   "metadata": {},
   "outputs": [
    {
     "name": "stdout",
     "output_type": "stream",
     "text": [
      "[[1, 'C'], [5, 'B'], [2, 'A'], [7, 'D'], [10, 'F']]\n",
      "[1, 'C']\n",
      "[2, 'A']\n",
      "[5, 'B']\n",
      "[7, 'D']\n",
      "[10, 'F']\n"
     ]
    }
   ],
   "source": [
    "#mean heap 활용해 우선순위 큐 사용\n",
    "#mean heap은 root node가 최솟값인 완전 이진 트리\n",
    "\n",
    "import heapq\n",
    "\n",
    "queue =[]\n",
    "heapq.heappush(queue, [2,'A']) #queue라는 리스트에 heap 형태로 데이터를 넣어줌\n",
    "heapq.heappush(queue, [5,'B'])\n",
    "heapq.heappush(queue, [1,'C'])\n",
    "heapq.heappush(queue, [7,'D'])\n",
    "heapq.heappush(queue, [10,'F'])\n",
    "\n",
    "print(queue) #최솟값이 맨 앞에 오는 순서로 구현됨\n",
    "\n",
    "for index in range(len(queue)):\n",
    "    print(heapq.heappop(queue)) #pop으로 출력하면 순서대로 출력됨"
   ]
  },
  {
   "cell_type": "code",
   "execution_count": null,
   "id": "a9557fb1",
   "metadata": {},
   "outputs": [],
   "source": []
  }
 ],
 "metadata": {
  "kernelspec": {
   "display_name": "Python 3 (ipykernel)",
   "language": "python",
   "name": "python3"
  },
  "language_info": {
   "codemirror_mode": {
    "name": "ipython",
    "version": 3
   },
   "file_extension": ".py",
   "mimetype": "text/x-python",
   "name": "python",
   "nbconvert_exporter": "python",
   "pygments_lexer": "ipython3",
   "version": "3.8.13"
  }
 },
 "nbformat": 4,
 "nbformat_minor": 5
}
