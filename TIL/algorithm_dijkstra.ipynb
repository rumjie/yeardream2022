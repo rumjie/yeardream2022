{
 "cells": [
  {
   "cell_type": "markdown",
   "id": "0fab3ced",
   "metadata": {},
   "source": [
    "## 다익스트라 알고리즘 구현"
   ]
  },
  {
   "cell_type": "code",
   "execution_count": 2,
   "id": "67108629",
   "metadata": {},
   "outputs": [
    {
     "name": "stdout",
     "output_type": "stream",
     "text": [
      "[[1, 'C'], [5, 'B'], [2, 'A'], [7, 'D'], [10, 'F']]\n",
      "[1, 'C']\n",
      "[2, 'A']\n",
      "[5, 'B']\n",
      "[7, 'D']\n",
      "[10, 'F']\n"
     ]
    }
   ],
   "source": [
    "#mean heap 활용해 우선순위 큐 사용\n",
    "#mean heap은 root node가 최솟값인 완전 이진 트리\n",
    "\n",
    "import heapq\n",
    "\n",
    "queue =[]\n",
    "heapq.heappush(queue, [2,'A']) #queue라는 리스트에 heap 형태로 데이터를 넣어줌\n",
    "heapq.heappush(queue, [5,'B']) #[거리, 노드] 순서\n",
    "heapq.heappush(queue, [1,'C'])\n",
    "heapq.heappush(queue, [7,'D'])\n",
    "heapq.heappush(queue, [10,'F'])\n",
    "\n",
    "print(queue) #최솟값이 맨 앞에 오는 순서로 구현됨\n",
    "\n",
    "for index in range(len(queue)):\n",
    "    print(heapq.heappop(queue)) #pop으로 프린트하면 순서대로 출력"
   ]
  },
  {
   "attachments": {},
   "cell_type": "markdown",
   "id": "9ae61064",
   "metadata": {},
   "source": [
    "<img src=\"https://www.bogotobogo.com/python/images/Dijkstra/graph_diagram.png\">\n",
    "출처: t.ly/N_jl"
   ]
  },
  {
   "cell_type": "code",
   "execution_count": 4,
   "id": "a0bf5d02",
   "metadata": {},
   "outputs": [],
   "source": [
    "#위 그림과 같이 구현하기 \n",
    "dij_graph = {\n",
    "    'a': {'b':7, 'c':9, 'f':14},\n",
    "    'b': {'a':7, 'c':10, 'd':15},\n",
    "    'c': {'a':9, 'b':10, 'd':11, 'f':2},\n",
    "    'd': {'b':15, 'c':11, 'e':6},\n",
    "    'e': {'d':6, 'f':9},\n",
    "    'f': {'a':14, 'e':9}\n",
    "}"
   ]
  },
  {
   "cell_type": "code",
   "execution_count": 7,
   "id": "c3c40aa7",
   "metadata": {},
   "outputs": [],
   "source": [
    "import heapq\n",
    "\n",
    "def dijksta(dij_graph, start):\n",
    "    distances = {node: float('inf') for node in dij_graph} #각 노드에 대한 거리\n",
    "    distances[start]=0 #출발점과의 거리는 0\n",
    "    queue = [] #우선순위 큐 구현\n",
    "    heapq.heappush(queue, [distances[start], start]) #초기화 완료 \n",
    "    \n",
    "    while queue:\n",
    "        current_distance, current_node = heapq.heappop(queue)\n",
    "        \n",
    "        if distances[current_node] < current_distance:\n",
    "            continue #더 멀리 걸린다면 skip\n",
    "        for adjacent, weight in dij_graph[current_node].items():\n",
    "            distance = current_distance + weight #현재 노드까지의 거리+다음 노드로 가는데 걸리는 거리\n",
    "            \n",
    "            if distance < distances[adjacent]: #새로운 최단거리라면\n",
    "                distances[adjacent] = distance\n",
    "                heapq.heappush(queue, [distance, adjacent]) #우선순위 큐 업데이트\n",
    "    return distances  #출발점부터 각 노드간의 최단 거리 "
   ]
  },
  {
   "cell_type": "code",
   "execution_count": 8,
   "id": "5114d8d3",
   "metadata": {},
   "outputs": [
    {
     "data": {
      "text/plain": [
       "{'a': 0, 'b': 7, 'c': 9, 'd': 20, 'e': 20, 'f': 11}"
      ]
     },
     "execution_count": 8,
     "metadata": {},
     "output_type": "execute_result"
    }
   ],
   "source": [
    "dijksta(dij_graph, 'a')"
   ]
  }
 ],
 "metadata": {
  "kernelspec": {
   "display_name": "Python 3 (ipykernel)",
   "language": "python",
   "name": "python3"
  },
  "language_info": {
   "codemirror_mode": {
    "name": "ipython",
    "version": 3
   },
   "file_extension": ".py",
   "mimetype": "text/x-python",
   "name": "python",
   "nbconvert_exporter": "python",
   "pygments_lexer": "ipython3",
   "version": "3.8.13"
  }
 },
 "nbformat": 4,
 "nbformat_minor": 5
}
