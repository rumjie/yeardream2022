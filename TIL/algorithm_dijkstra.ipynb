{
 "cells": [
  {
   "cell_type": "markdown",
   "id": "0fab3ced",
   "metadata": {},
   "source": [
    "## 다익스트라 알고리즘 구현"
   ]
  },
  {
   "cell_type": "code",
   "execution_count": 1,
   "id": "67108629",
   "metadata": {},
   "outputs": [
    {
     "name": "stdout",
     "output_type": "stream",
     "text": [
      "[[1, 'C'], [5, 'B'], [2, 'A'], [7, 'D'], [10, 'F']]\n",
      "[1, 'C']\n",
      "[2, 'A']\n",
      "[5, 'B']\n",
      "[7, 'D']\n",
      "[10, 'F']\n"
     ]
    }
   ],
   "source": [
    "#min heap 활용해 우선순위 큐 사용\n",
    "#min heap은 root node가 최솟값인 완전 이진 트리\n",
    "\n",
    "import heapq\n",
    "\n",
    "queue =[]\n",
    "heapq.heappush(queue, [2,'A']) #queue라는 리스트에 heap 형태로 데이터를 넣어줌\n",
    "heapq.heappush(queue, [5,'B']) #[거리, 노드] 순서\n",
    "heapq.heappush(queue, [1,'C'])\n",
    "heapq.heappush(queue, [7,'D'])\n",
    "heapq.heappush(queue, [10,'F'])\n",
    "\n",
    "print(queue) #최솟값이 맨 앞에 오는 순서로 구현됨\n",
    "\n",
    "for index in range(len(queue)):\n",
    "    print(heapq.heappop(queue)) #pop으로 프린트하면 순서대로 출력"
   ]
  },
  {
   "cell_type": "markdown",
   "id": "9ae61064",
   "metadata": {},
   "source": [
    "<img src=\"https://www.bogotobogo.com/python/images/Dijkstra/graph_diagram.png\">\n",
    "출처: t.ly/N_jl"
   ]
  },
  {
   "cell_type": "code",
   "execution_count": 2,
   "id": "a0bf5d02",
   "metadata": {},
   "outputs": [],
   "source": [
    "#위 그림과 같이 구현하기 \n",
    "dij_graph = {\n",
    "    'a': {'b':7, 'c':9, 'f':14},\n",
    "    'b': {'a':7, 'c':10, 'd':15},\n",
    "    'c': {'a':9, 'b':10, 'd':11, 'f':2},\n",
    "    'd': {'b':15, 'c':11, 'e':6},\n",
    "    'e': {'d':6, 'f':9},\n",
    "    'f': {'a':14, 'e':9}\n",
    "}"
   ]
  },
  {
   "cell_type": "code",
   "execution_count": 3,
   "id": "c3c40aa7",
   "metadata": {},
   "outputs": [],
   "source": [
    "import heapq\n",
    "\n",
    "def dijksta(dij_graph, start):\n",
    "    distances = {node: float('inf') for node in dij_graph} #각 노드에 대한 거리\n",
    "    distances[start]=0 #출발점과의 거리는 0\n",
    "    queue = [] #우선순위 큐 구현\n",
    "    heapq.heappush(queue, [distances[start], start]) #초기화 완료 \n",
    "    \n",
    "    while queue:\n",
    "        current_distance, current_node = heapq.heappop(queue)\n",
    "        \n",
    "        if distances[current_node] < current_distance:\n",
    "            continue #더 멀리 걸린다면 skip\n",
    "        for adjacent, weight in dij_graph[current_node].items():\n",
    "            distance = current_distance + weight #현재 노드까지의 거리+다음 노드로 가는데 걸리는 거리\n",
    "            \n",
    "            if distance < distances[adjacent]: #새로운 최단거리라면\n",
    "                distances[adjacent] = distance\n",
    "                heapq.heappush(queue, [distance, adjacent]) #우선순위 큐 업데이트\n",
    "    return distances  #출발점부터 각 노드간의 최단 거리 "
   ]
  },
  {
   "cell_type": "code",
   "execution_count": 8,
   "id": "5114d8d3",
   "metadata": {},
   "outputs": [
    {
     "data": {
      "text/plain": [
       "{'a': 0, 'b': 7, 'c': 9, 'd': 20, 'e': 20, 'f': 11}"
      ]
     },
     "execution_count": 8,
     "metadata": {},
     "output_type": "execute_result"
    }
   ],
   "source": [
    "dijksta(dij_graph, 'a')"
   ]
  },
  {
   "cell_type": "markdown",
   "id": "75f5ae10",
   "metadata": {},
   "source": [
    "## 백준 10282 해킹\n",
    "\n",
    "문제 링크:https://www.acmicpc.net/problem/10282\n",
    "\n",
    "> 문제\n",
    "\n",
    "최흉최악의 해커 yum3이 네트워크 시설의 한 컴퓨터를 해킹했다! 이제 서로에 의존하는 컴퓨터들은 점차 하나둘 전염되기 시작한다. 어떤 컴퓨터 a가 다른 컴퓨터 b에 의존한다면, b가 감염되면 그로부터 일정 시간 뒤 a도 감염되고 만다. 이때 b가 a를 의존하지 않는다면, a가 감염되더라도 b는 안전하다.\n",
    "\n",
    "최흉최악의 해커 yum3이 해킹한 컴퓨터 번호와 각 의존성이 주어질 때, 해킹당한 컴퓨터까지 포함하여 총 몇 대의 컴퓨터가 감염되며 그에 걸리는 시간이 얼마인지 구하는 프로그램을 작성하시오.\n",
    "\n",
    ">입력\n",
    "\n",
    "첫째 줄에 테스트 케이스의 개수가 주어진다. 테스트 케이스의 개수는 최대 100개이다. 각 테스트 케이스는 다음과 같이 이루어져 있다.\n",
    "\n",
    "첫째 줄에 컴퓨터 개수 n, 의존성 개수 d, 해킹당한 컴퓨터의 번호 c가 주어진다(1 ≤ n ≤ 10,000, 1 ≤ d ≤ 100,000, 1 ≤ c ≤ n).\n",
    "이어서 d개의 줄에 각 의존성을 나타내는 정수 a, b, s가 주어진다(1 ≤ a, b ≤ n, a ≠ b, 0 ≤ s ≤ 1,000). 이는 컴퓨터 a가 컴퓨터 b를 의존하며, 컴퓨터 b가 감염되면 s초 후 컴퓨터 a도 감염됨을 뜻한다.\n",
    "각 테스트 케이스에서 같은 의존성 (a, b)가 두 번 이상 존재하지 않는다.\n",
    "\n",
    ">출력\n",
    "\n",
    "각 테스트 케이스마다 한 줄에 걸쳐 총 감염되는 컴퓨터 수, 마지막 컴퓨터가 감염되기까지 걸리는 시간을 공백으로 구분지어 출력한다."
   ]
  },
  {
   "cell_type": "code",
   "execution_count": 9,
   "id": "42615612",
   "metadata": {},
   "outputs": [],
   "source": [
    "#입력 장치\n",
    "import sys, io\n",
    "file = open(\"inputs.txt\", 'w')\n",
    "# 다음 데이터에 그대로 여러 데이터를 복사붙여넣기 하면 됨\n",
    "data = \"\"\"2\n",
    "3 2 2\n",
    "2 1 5\n",
    "3 2 5\n",
    "3 3 1\n",
    "2 1 2\n",
    "3 1 8\n",
    "3 2 4\n",
    "\"\"\"\n",
    "file.write(data)\n",
    "file.close()\n",
    "input_file = open(\"inputs.txt\", \"r\") \n",
    "sys.stdin = io.StringIO(input_file.read())"
   ]
  },
  {
   "cell_type": "code",
   "execution_count": 10,
   "id": "3805e9f9",
   "metadata": {},
   "outputs": [
    {
     "name": "stdout",
     "output_type": "stream",
     "text": [
      "{1: None, 2: {1: 5}, 3: {2: 5}}\n",
      "0 3\n"
     ]
    },
    {
     "data": {
      "text/plain": [
       "0"
      ]
     },
     "execution_count": 10,
     "metadata": {},
     "output_type": "execute_result"
    }
   ],
   "source": [
    "import sys\n",
    "import heapq\n",
    "input = sys.stdin.readline\n",
    "\n",
    "test_case = int(input()) #test case 갯수 \n",
    "\n",
    "#그래프 구축\n",
    "\n",
    "n, d, c = list( map(int, input().split()) )\n",
    "computers = dict( {i, None} for i in range(1,n+1))\n",
    "\n",
    "for vertex in range(d): #의존성 기반으로 그래프 그리기\n",
    "    start, end, sec = list( map(int, input().split()) )\n",
    "    direction = dict()\n",
    "    direction[end] = sec\n",
    "    computers[start] = direction\n",
    "print(computers)\n",
    "    \n",
    "\n",
    "def infection(computers, c):\n",
    "    distances = {node: float('inf') for node in computers} #각 노드에 대한 거리\n",
    "    distances[start]=0\n",
    "    now_queue = []\n",
    "    heapq.heappush(now_queue, [distances[start], start])\n",
    "    infected = []\n",
    "    \n",
    "    while now_queue:\n",
    "        now_distance, now_node = heapq.heappop(now_queue)\n",
    "        print(now_distance, now_node)\n",
    "        \n",
    "        if now_distance > distances[now_node]:\n",
    "            continues\n",
    "        \n",
    "            \n",
    "    \n",
    "    #예외: 한 노드로부터 두 번 돌아야한다면.?\n",
    "    return len(infected)#, total_sec\n",
    "infection(computers, 2)"
   ]
  },
  {
   "cell_type": "code",
   "execution_count": null,
   "id": "8c2ba47c",
   "metadata": {},
   "outputs": [],
   "source": []
  },
  {
   "cell_type": "code",
   "execution_count": null,
   "id": "5328918e",
   "metadata": {},
   "outputs": [],
   "source": []
  }
 ],
 "metadata": {
  "kernelspec": {
   "display_name": "Python 3 (ipykernel)",
   "language": "python",
   "name": "python3"
  },
  "language_info": {
   "codemirror_mode": {
    "name": "ipython",
    "version": 3
   },
   "file_extension": ".py",
   "mimetype": "text/x-python",
   "name": "python",
   "nbconvert_exporter": "python",
   "pygments_lexer": "ipython3",
   "version": "3.8.13"
  }
 },
 "nbformat": 4,
 "nbformat_minor": 5
}
