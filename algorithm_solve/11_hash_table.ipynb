{
 "cells": [
  {
   "cell_type": "code",
   "execution_count": 1,
   "id": "0ce28427",
   "metadata": {},
   "outputs": [],
   "source": [
    "from typing import List, Optional\n",
    "\n",
    "class ListNode(object):\n",
    "    def __init__(self, val=0, next=None):\n",
    "        self.val = val\n",
    "        self.next = None"
   ]
  },
  {
   "cell_type": "markdown",
   "id": "24778b68",
   "metadata": {},
   "source": [
    "## 11장 해시 테이블\n",
    "### 해시맵 디자인 - leetcode 706 https://leetcode.com/problems/valid-parentheses/"
   ]
  },
  {
   "cell_type": "code",
   "execution_count": 2,
   "id": "e14eac3d",
   "metadata": {},
   "outputs": [],
   "source": [
    "#python의 해시는 dict\n",
    "#lucky strike\n",
    "\n",
    "class MyHashMap:\n",
    "\n",
    "    def __init__(self):\n",
    "        self.hash = dict()\n",
    "\n",
    "    def put(self, key: int, value: int) -> None:\n",
    "        self.hash[key] = value\n",
    "\n",
    "    def get(self, key: int) -> int:\n",
    "        try:\n",
    "            return self.hash[key]\n",
    "        except:\n",
    "            return -1\n",
    "\n",
    "    def remove(self, key: int) -> None:\n",
    "        try:\n",
    "            return self.hash.pop(key)\n",
    "        except:\n",
    "            return"
   ]
  },
  {
   "cell_type": "markdown",
   "id": "9270eb6c",
   "metadata": {},
   "source": [
    "### 보석과 돌 - leetcode 771 https://leetcode.com/problems/jewels-and-stones/"
   ]
  },
  {
   "cell_type": "code",
   "execution_count": null,
   "id": "48654eee",
   "metadata": {},
   "outputs": [],
   "source": [
    "class Solution:\n",
    "    def numJewelsInStones(self, jewels: str, stones: str) -> int:\n",
    "        hash_je = dict()\n",
    "        for i in jewels:\n",
    "            hash_je[i] = 1\n",
    "        \n",
    "        count=0\n",
    "        for j in stones:\n",
    "            try:\n",
    "                count+=hash_je[j]\n",
    "            except:\n",
    "                pass\n",
    "        return count"
   ]
  }
 ],
 "metadata": {
  "kernelspec": {
   "display_name": "Python 3 (ipykernel)",
   "language": "python",
   "name": "python3"
  },
  "language_info": {
   "codemirror_mode": {
    "name": "ipython",
    "version": 3
   },
   "file_extension": ".py",
   "mimetype": "text/x-python",
   "name": "python",
   "nbconvert_exporter": "python",
   "pygments_lexer": "ipython3",
   "version": "3.8.13"
  },
  "toc": {
   "base_numbering": 1,
   "nav_menu": {},
   "number_sections": true,
   "sideBar": true,
   "skip_h1_title": false,
   "title_cell": "Table of Contents",
   "title_sidebar": "Contents",
   "toc_cell": false,
   "toc_position": {},
   "toc_section_display": true,
   "toc_window_display": false
  }
 },
 "nbformat": 4,
 "nbformat_minor": 5
}
