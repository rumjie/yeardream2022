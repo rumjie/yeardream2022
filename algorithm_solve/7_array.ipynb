{
 "cells": [
  {
   "cell_type": "code",
   "execution_count": 2,
   "id": "0ce28427",
   "metadata": {},
   "outputs": [],
   "source": [
    "from typing import List"
   ]
  },
  {
   "cell_type": "markdown",
   "id": "24778b68",
   "metadata": {},
   "source": [
    "## 7장 배열\n",
    "### 두 수의 합 - leetcode 1 https://leetcode.com/problems/two-sum/"
   ]
  },
  {
   "cell_type": "code",
   "execution_count": 3,
   "id": "e14eac3d",
   "metadata": {},
   "outputs": [],
   "source": [
    "def twoSum(self, nums: List[int], target: int) -> List[int]:\n",
    "    for i in range(len(nums)-1):\n",
    "        for j in range(i+1,len(nums)):\n",
    "            if nums[i]+nums[j] == target:\n",
    "                return [i, j]"
   ]
  },
  {
   "cell_type": "markdown",
   "id": "9270eb6c",
   "metadata": {},
   "source": [
    "### 빗물 트래핑 - leetcode 42"
   ]
  },
  {
   "cell_type": "code",
   "execution_count": null,
   "id": "48654eee",
   "metadata": {},
   "outputs": [],
   "source": [
    "def get_highest(height_ls): #빈칸 메꿔준 리스트 반환\n",
    "    empty = []\n",
    "    point= 0\n",
    "    for i in height_ls:\n",
    "        if i >=point:\n",
    "            empty.append(i)\n",
    "            point=i\n",
    "        else:\n",
    "            empty.append(point)\n",
    "    return empty\n",
    "\n",
    "def trap(self, height: List[int]) -> int:\n",
    "    forward = get_highest(height)\n",
    "    backward = get_highest(height[::-1])\n",
    "    whole = []\n",
    "    for k in range(len(forward)):\n",
    "        whole.append(min(forward[k], backward[::-1][k]))\n",
    "    print(whole)\n",
    "    black = sum(height)\n",
    "    return (sum(whole) - black)"
   ]
  },
  {
   "cell_type": "markdown",
   "id": "b6aeaf2c",
   "metadata": {},
   "source": [
    "### 세 수의 합 - leetcode 15 https://leetcode.com/problems/3sum/"
   ]
  },
  {
   "cell_type": "code",
   "execution_count": null,
   "id": "9959a473",
   "metadata": {},
   "outputs": [],
   "source": [
    "def threeSum(self, nums: List[int]) -> List[List[int]]:\n",
    "    nums.sorted()\n",
    "    zero_ls = []\n",
    "    # 양수 음수로 나누기 ? \n",
    "    # 3중 for 문?\n",
    "\n",
    "    return zero_ls"
   ]
  }
 ],
 "metadata": {
  "kernelspec": {
   "display_name": "Python 3 (ipykernel)",
   "language": "python",
   "name": "python3"
  },
  "language_info": {
   "codemirror_mode": {
    "name": "ipython",
    "version": 3
   },
   "file_extension": ".py",
   "mimetype": "text/x-python",
   "name": "python",
   "nbconvert_exporter": "python",
   "pygments_lexer": "ipython3",
   "version": "3.8.13"
  }
 },
 "nbformat": 4,
 "nbformat_minor": 5
}
