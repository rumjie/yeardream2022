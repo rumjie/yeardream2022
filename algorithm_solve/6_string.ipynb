{
 "cells": [
  {
   "cell_type": "markdown",
   "id": "f6a0835e",
   "metadata": {},
   "source": [
    "## 6장 문자열 조작\n",
    "### 유효한 팰린드롬 - leetcode 125"
   ]
  },
  {
   "cell_type": "code",
   "execution_count": 38,
   "id": "f90a543d",
   "metadata": {},
   "outputs": [],
   "source": [
    "class Solution:\n",
    "    def isPalindrome(self, s: str) -> bool:\n",
    "        if s ==\"\":\n",
    "            return True\n",
    "        s = s.lower() #대소문자 구분 필요 없음\n",
    "        s = list(filter(str.isalnum,s)) #alphabet or number\n",
    "        print(s)\n",
    "        return s == s[::-1]"
   ]
  },
  {
   "cell_type": "code",
   "execution_count": 37,
   "id": "0ea295cf",
   "metadata": {},
   "outputs": [
    {
     "name": "stdout",
     "output_type": "stream",
     "text": [
      "['p']\n"
     ]
    },
    {
     "data": {
      "text/plain": [
       "True"
      ]
     },
     "execution_count": 37,
     "metadata": {},
     "output_type": "execute_result"
    }
   ],
   "source": [
    "answer = Solution().isPalindrome('0P')\n",
    "answer"
   ]
  },
  {
   "cell_type": "markdown",
   "id": "fa1460e8",
   "metadata": {},
   "source": [
    "### 문자열 뒤집기 - leetcode 344, https://leetcode.com/problems/reverse-string/"
   ]
  },
  {
   "cell_type": "code",
   "execution_count": 53,
   "id": "ecfd9364",
   "metadata": {},
   "outputs": [],
   "source": [
    "class Solution:\n",
    "    def reverseString(self, s: List[str]) -> None:\n",
    "        s.reverse()"
   ]
  },
  {
   "cell_type": "markdown",
   "id": "04bae153",
   "metadata": {},
   "source": [
    "### 로그 파일 재정렬 - leetcode 937, https://leetcode.com/problems/reorder-data-in-log-files/"
   ]
  },
  {
   "cell_type": "code",
   "execution_count": 54,
   "id": "56d2dd99",
   "metadata": {},
   "outputs": [
    {
     "data": {
      "text/plain": [
       "['h', 'i']"
      ]
     },
     "execution_count": 54,
     "metadata": {},
     "output_type": "execute_result"
    }
   ],
   "source": [
    "reverseString(s=['i','h'])"
   ]
  },
  {
   "cell_type": "code",
   "execution_count": null,
   "id": "206f30a5",
   "metadata": {},
   "outputs": [],
   "source": []
  }
 ],
 "metadata": {
  "kernelspec": {
   "display_name": "Python 3 (ipykernel)",
   "language": "python",
   "name": "python3"
  },
  "language_info": {
   "codemirror_mode": {
    "name": "ipython",
    "version": 3
   },
   "file_extension": ".py",
   "mimetype": "text/x-python",
   "name": "python",
   "nbconvert_exporter": "python",
   "pygments_lexer": "ipython3",
   "version": "3.8.13"
  }
 },
 "nbformat": 4,
 "nbformat_minor": 5
}
