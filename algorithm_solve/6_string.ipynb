{
 "cells": [
  {
   "cell_type": "markdown",
   "id": "f6a0835e",
   "metadata": {},
   "source": [
    "## 6장 문자열 조작\n",
    "### 유효한 팰린드롬 - leetcode 125"
   ]
  },
  {
   "cell_type": "code",
   "execution_count": 38,
   "id": "f90a543d",
   "metadata": {},
   "outputs": [],
   "source": [
    "class Solution:\n",
    "    def isPalindrome(self, s: str) -> bool:\n",
    "        if s ==\"\":\n",
    "            return True\n",
    "        s = s.lower() #대소문자 구분 필요 없음\n",
    "        s = list(filter(str.isalnum,s)) #alphabet or number\n",
    "        print(s)\n",
    "        return s == s[::-1]"
   ]
  },
  {
   "cell_type": "code",
   "execution_count": 37,
   "id": "0ea295cf",
   "metadata": {},
   "outputs": [
    {
     "name": "stdout",
     "output_type": "stream",
     "text": [
      "['p']\n"
     ]
    },
    {
     "data": {
      "text/plain": [
       "True"
      ]
     },
     "execution_count": 37,
     "metadata": {},
     "output_type": "execute_result"
    }
   ],
   "source": [
    "answer = Solution().isPalindrome('0P')\n",
    "answer"
   ]
  },
  {
   "cell_type": "markdown",
   "id": "fa1460e8",
   "metadata": {},
   "source": [
    "### 문자열 뒤집기 - leetcode 344, https://leetcode.com/problems/reverse-string/"
   ]
  },
  {
   "cell_type": "code",
   "execution_count": 53,
   "id": "ecfd9364",
   "metadata": {},
   "outputs": [],
   "source": [
    "class Solution:\n",
    "    def reverseString(self, s: List[str]) -> None:\n",
    "        s.reverse()"
   ]
  },
  {
   "cell_type": "markdown",
   "id": "04bae153",
   "metadata": {},
   "source": [
    "### 로그 파일 재정렬 - leetcode 937, https://leetcode.com/problems/reorder-data-in-log-files/"
   ]
  },
  {
   "cell_type": "code",
   "execution_count": 54,
   "id": "56d2dd99",
   "metadata": {},
   "outputs": [
    {
     "data": {
      "text/plain": [
       "['h', 'i']"
      ]
     },
     "execution_count": 54,
     "metadata": {},
     "output_type": "execute_result"
    }
   ],
   "source": [
    "class Solution:\n",
    "    def reorderLogFiles(self, logs: List[str]) -> List[str]:\n",
    "        word_log = []\n",
    "        num_log = []\n",
    "        for content in logs:\n",
    "            content_ls = content.split() #to separate by space, not '' just () \n",
    "            if str.isdigit(content_ls[1]):\n",
    "                num_log.append(content)\n",
    "            else:\n",
    "                word_log.append(content)\n",
    "        word_log.sort(key = lambda x:(x.split()[1:], x.split()[0])) # sort by two keys \n",
    "        return word_log + num_log"
   ]
  },
  {
   "cell_type": "markdown",
   "id": "a8f8c2db",
   "metadata": {},
   "source": [
    "### 가장 흔한 단어 - leetcode 819, https://leetcode.com/problems/most-common-word/"
   ]
  },
  {
   "cell_type": "code",
   "execution_count": 3,
   "id": "f9d23e58",
   "metadata": {},
   "outputs": [],
   "source": [
    "class Solution:\n",
    "    def mostCommonWord(self, paragraph: str, banned: List[str]) -> str:\n",
    "        paragraph = paragraph.lower()\n",
    "        lower_ls = paragraph.replace(',', ' ').translate(str.maketrans('', '',string.punctuation)).split() #str.translate & str.maketrans\n",
    "        print(lower_ls)\n",
    "        count_set = set(lower_ls) - set(banned)\n",
    "        common = 0\n",
    "        for word in count_set:\n",
    "            if lower_ls.count(word) > common:\n",
    "                common = lower_ls.count(word)\n",
    "                frequent =word\n",
    "            else:\n",
    "                pass\n",
    "\n",
    "        return frequent"
   ]
  },
  {
   "cell_type": "markdown",
   "id": "725f957e",
   "metadata": {},
   "source": [
    "### 그룹 애너그램 - leetcode 49, https://leetcode.com/problems/group-anagrams/"
   ]
  },
  {
   "cell_type": "code",
   "execution_count": 5,
   "id": "0de8bf13",
   "metadata": {},
   "outputs": [
    {
     "data": {
      "text/plain": [
       "['s', 'p', 'l', 'i', 't']"
      ]
     },
     "execution_count": 5,
     "metadata": {},
     "output_type": "execute_result"
    }
   ],
   "source": [
    "i = 'split'\n",
    "splited = list(i)\n",
    "splited"
   ]
  },
  {
   "cell_type": "code",
   "execution_count": null,
   "id": "42784ac4",
   "metadata": {},
   "outputs": [],
   "source": []
  }
 ],
 "metadata": {
  "kernelspec": {
   "display_name": "Python 3 (ipykernel)",
   "language": "python",
   "name": "python3"
  },
  "language_info": {
   "codemirror_mode": {
    "name": "ipython",
    "version": 3
   },
   "file_extension": ".py",
   "mimetype": "text/x-python",
   "name": "python",
   "nbconvert_exporter": "python",
   "pygments_lexer": "ipython3",
   "version": "3.8.13"
  }
 },
 "nbformat": 4,
 "nbformat_minor": 5
}
