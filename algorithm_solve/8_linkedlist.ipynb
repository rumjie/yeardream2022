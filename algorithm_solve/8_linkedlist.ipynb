{
 "cells": [
  {
   "cell_type": "code",
   "execution_count": 5,
   "id": "0ce28427",
   "metadata": {},
   "outputs": [],
   "source": [
    "from typing import List, Optional\n",
    "\n",
    "class ListNode(object):\n",
    "    def __init__(self, val=0, next=None):\n",
    "        self.val = val\n",
    "        self.next = None"
   ]
  },
  {
   "cell_type": "markdown",
   "id": "24778b68",
   "metadata": {},
   "source": [
    "## 8장 연결 리스트\n",
    "### 팰린드롬 연결 리스트 - leetcode 234 https://leetcode.com/problems/palindrome-linked-list/"
   ]
  },
  {
   "cell_type": "code",
   "execution_count": 6,
   "id": "e14eac3d",
   "metadata": {},
   "outputs": [],
   "source": [
    "#리스트로 변환 후 팰린드롬 판정\n",
    "\n",
    "class Solution:\n",
    "    def isPalindrome(self, head: Optional[ListNode]) -> bool:\n",
    "        if (not head) | (not head.next):\n",
    "            return True\n",
    "        ls = []\n",
    "        while head !=None:\n",
    "            ls.append(head.val) #list로 받아오기\n",
    "            head = head.next\n",
    "        return ls[:int(len(ls)/2)] == ls[::-1][:int(len(ls)/2)]"
   ]
  },
  {
   "cell_type": "markdown",
   "id": "9270eb6c",
   "metadata": {},
   "source": [
    "### 두 정렬 리스트의 병합 - leetcode 21 https://leetcode.com/problems/merge-two-sorted-lists/"
   ]
  },
  {
   "cell_type": "code",
   "execution_count": null,
   "id": "48654eee",
   "metadata": {},
   "outputs": [],
   "source": []
  },
  {
   "cell_type": "markdown",
   "id": "b6aeaf2c",
   "metadata": {},
   "source": [
    "### 두 수의 덧셈 https://leetcode.com/problems/add-two-numbers/"
   ]
  },
  {
   "cell_type": "code",
   "execution_count": 7,
   "id": "9959a473",
   "metadata": {},
   "outputs": [],
   "source": [
    "class Solution:\n",
    "    def addTwoNumbers(self, l1: Optional[ListNode], l2: Optional[ListNode]) -> Optional[ListNode] :\n",
    "        num1 = 0\n",
    "        num2 = 0\n",
    "        tens = 0\n",
    "        while l1 is not None:\n",
    "            num1 += l1.val * (10 ** tens)\n",
    "            l1 = l1.next \n",
    "            tens +=1\n",
    "        tens = 0\n",
    "        while l2 is not None:\n",
    "            num2 += l2.val * (10 ** tens)\n",
    "            l2 = l2.next\n",
    "            tens += 1\n",
    "        result = [ int(x) for x in str(num1+num2) ][::-1]\n",
    "        new_sum = ListNode()\n",
    "        node = new_sum\n",
    "        for n, i in enumerate(result):\n",
    "            node.val = i\n",
    "            if n+1 == len(result):\n",
    "                break\n",
    "            node.next = ListNode()\n",
    "            node = node.next\n",
    "        return new_sum\n"
   ]
  },
  {
   "cell_type": "code",
   "execution_count": null,
   "id": "0beddc1f",
   "metadata": {},
   "outputs": [],
   "source": []
  }
 ],
 "metadata": {
  "kernelspec": {
   "display_name": "Python 3 (ipykernel)",
   "language": "python",
   "name": "python3"
  },
  "language_info": {
   "codemirror_mode": {
    "name": "ipython",
    "version": 3
   },
   "file_extension": ".py",
   "mimetype": "text/x-python",
   "name": "python",
   "nbconvert_exporter": "python",
   "pygments_lexer": "ipython3",
   "version": "3.8.13"
  },
  "toc": {
   "base_numbering": 1,
   "nav_menu": {},
   "number_sections": true,
   "sideBar": true,
   "skip_h1_title": false,
   "title_cell": "Table of Contents",
   "title_sidebar": "Contents",
   "toc_cell": false,
   "toc_position": {},
   "toc_section_display": true,
   "toc_window_display": false
  }
 },
 "nbformat": 4,
 "nbformat_minor": 5
}
